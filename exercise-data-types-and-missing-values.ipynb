{
 "cells": [
  {
   "cell_type": "markdown",
   "id": "87901baf",
   "metadata": {
    "papermill": {
     "duration": 0.004283,
     "end_time": "2025-09-30T07:09:24.075147",
     "exception": false,
     "start_time": "2025-09-30T07:09:24.070864",
     "status": "completed"
    },
    "tags": []
   },
   "source": [
    "**This notebook is an exercise in the [Pandas](https://www.kaggle.com/learn/pandas) course.  You can reference the tutorial at [this link](https://www.kaggle.com/residentmario/data-types-and-missing-values).**\n",
    "\n",
    "---\n"
   ]
  },
  {
   "cell_type": "markdown",
   "id": "13a2afc0",
   "metadata": {
    "papermill": {
     "duration": 0.0031,
     "end_time": "2025-09-30T07:09:24.081866",
     "exception": false,
     "start_time": "2025-09-30T07:09:24.078766",
     "status": "completed"
    },
    "tags": []
   },
   "source": [
    "# Introduction\n",
    "\n",
    "Run the following cell to load your data and some utility functions."
   ]
  },
  {
   "cell_type": "code",
   "execution_count": 1,
   "id": "bf0e3028",
   "metadata": {
    "execution": {
     "iopub.execute_input": "2025-09-30T07:09:24.091241Z",
     "iopub.status.busy": "2025-09-30T07:09:24.090229Z",
     "iopub.status.idle": "2025-09-30T07:09:29.240317Z",
     "shell.execute_reply": "2025-09-30T07:09:29.239336Z"
    },
    "papermill": {
     "duration": 5.156539,
     "end_time": "2025-09-30T07:09:29.241861",
     "exception": false,
     "start_time": "2025-09-30T07:09:24.085322",
     "status": "completed"
    },
    "tags": []
   },
   "outputs": [
    {
     "name": "stdout",
     "output_type": "stream",
     "text": [
      "Setup complete.\n"
     ]
    }
   ],
   "source": [
    "import pandas as pd\n",
    "\n",
    "reviews = pd.read_csv(\"../input/wine-reviews/winemag-data-130k-v2.csv\", index_col=0)\n",
    "\n",
    "from learntools.core import binder; binder.bind(globals())\n",
    "from learntools.pandas.data_types_and_missing_data import *\n",
    "print(\"Setup complete.\")"
   ]
  },
  {
   "cell_type": "markdown",
   "id": "7ed07879",
   "metadata": {
    "papermill": {
     "duration": 0.00331,
     "end_time": "2025-09-30T07:09:29.248840",
     "exception": false,
     "start_time": "2025-09-30T07:09:29.245530",
     "status": "completed"
    },
    "tags": []
   },
   "source": [
    "# Exercises"
   ]
  },
  {
   "cell_type": "markdown",
   "id": "4cc36745",
   "metadata": {
    "papermill": {
     "duration": 0.003068,
     "end_time": "2025-09-30T07:09:29.255656",
     "exception": false,
     "start_time": "2025-09-30T07:09:29.252588",
     "status": "completed"
    },
    "tags": []
   },
   "source": [
    "## 1. \n",
    "What is the data type of the `points` column in the dataset?"
   ]
  },
  {
   "cell_type": "code",
   "execution_count": 2,
   "id": "20b6212d",
   "metadata": {
    "execution": {
     "iopub.execute_input": "2025-09-30T07:09:29.263428Z",
     "iopub.status.busy": "2025-09-30T07:09:29.263106Z",
     "iopub.status.idle": "2025-09-30T07:09:29.272819Z",
     "shell.execute_reply": "2025-09-30T07:09:29.271877Z"
    },
    "papermill": {
     "duration": 0.015309,
     "end_time": "2025-09-30T07:09:29.274254",
     "exception": false,
     "start_time": "2025-09-30T07:09:29.258945",
     "status": "completed"
    },
    "tags": []
   },
   "outputs": [
    {
     "data": {
      "application/javascript": [
       "parent.postMessage({\"jupyterEvent\": \"custom.exercise_interaction\", \"data\": {\"outcomeType\": 1, \"valueTowardsCompletion\": 0.25, \"interactionType\": 1, \"questionType\": 1, \"questionId\": \"1_PointsDtype\", \"learnToolsVersion\": \"0.3.5\", \"failureMessage\": \"\", \"exceptionClass\": \"\", \"trace\": \"\"}}, \"*\")"
      ],
      "text/plain": [
       "<IPython.core.display.Javascript object>"
      ]
     },
     "metadata": {},
     "output_type": "display_data"
    },
    {
     "data": {
      "text/markdown": [
       "<span style=\"color:#33cc33\">Correct</span>"
      ],
      "text/plain": [
       "Correct"
      ]
     },
     "metadata": {},
     "output_type": "display_data"
    }
   ],
   "source": [
    "# Your code here\n",
    "dtype = reviews.points.dtype\n",
    "\n",
    "# Check your answer\n",
    "q1.check()"
   ]
  },
  {
   "cell_type": "code",
   "execution_count": 3,
   "id": "99ca6d0e",
   "metadata": {
    "execution": {
     "iopub.execute_input": "2025-09-30T07:09:29.283467Z",
     "iopub.status.busy": "2025-09-30T07:09:29.283128Z",
     "iopub.status.idle": "2025-09-30T07:09:29.286945Z",
     "shell.execute_reply": "2025-09-30T07:09:29.286181Z"
    },
    "papermill": {
     "duration": 0.010037,
     "end_time": "2025-09-30T07:09:29.288577",
     "exception": false,
     "start_time": "2025-09-30T07:09:29.278540",
     "status": "completed"
    },
    "tags": []
   },
   "outputs": [],
   "source": [
    "#q1.hint()\n",
    "#q1.solution()"
   ]
  },
  {
   "cell_type": "markdown",
   "id": "d7bf303e",
   "metadata": {
    "papermill": {
     "duration": 0.003352,
     "end_time": "2025-09-30T07:09:29.295739",
     "exception": false,
     "start_time": "2025-09-30T07:09:29.292387",
     "status": "completed"
    },
    "tags": []
   },
   "source": [
    "## 2. \n",
    "Create a Series from entries in the `points` column, but convert the entries to strings. Hint: strings are `str` in native Python."
   ]
  },
  {
   "cell_type": "code",
   "execution_count": 4,
   "id": "6f7a70b5",
   "metadata": {
    "execution": {
     "iopub.execute_input": "2025-09-30T07:09:29.304260Z",
     "iopub.status.busy": "2025-09-30T07:09:29.303931Z",
     "iopub.status.idle": "2025-09-30T07:09:29.353571Z",
     "shell.execute_reply": "2025-09-30T07:09:29.352577Z"
    },
    "papermill": {
     "duration": 0.05619,
     "end_time": "2025-09-30T07:09:29.355573",
     "exception": false,
     "start_time": "2025-09-30T07:09:29.299383",
     "status": "completed"
    },
    "tags": []
   },
   "outputs": [
    {
     "data": {
      "application/javascript": [
       "parent.postMessage({\"jupyterEvent\": \"custom.exercise_interaction\", \"data\": {\"outcomeType\": 1, \"valueTowardsCompletion\": 0.25, \"interactionType\": 1, \"questionType\": 1, \"questionId\": \"2_StrPoints\", \"learnToolsVersion\": \"0.3.5\", \"failureMessage\": \"\", \"exceptionClass\": \"\", \"trace\": \"\"}}, \"*\")"
      ],
      "text/plain": [
       "<IPython.core.display.Javascript object>"
      ]
     },
     "metadata": {},
     "output_type": "display_data"
    },
    {
     "data": {
      "text/markdown": [
       "<span style=\"color:#33cc33\">Correct</span>"
      ],
      "text/plain": [
       "Correct"
      ]
     },
     "metadata": {},
     "output_type": "display_data"
    }
   ],
   "source": [
    "point_strings = reviews.points.astype('str')\n",
    "\n",
    "# Check your answer\n",
    "q2.check()"
   ]
  },
  {
   "cell_type": "code",
   "execution_count": 5,
   "id": "24bbf50c",
   "metadata": {
    "execution": {
     "iopub.execute_input": "2025-09-30T07:09:29.365771Z",
     "iopub.status.busy": "2025-09-30T07:09:29.365420Z",
     "iopub.status.idle": "2025-09-30T07:09:29.369714Z",
     "shell.execute_reply": "2025-09-30T07:09:29.368723Z"
    },
    "papermill": {
     "duration": 0.011,
     "end_time": "2025-09-30T07:09:29.371437",
     "exception": false,
     "start_time": "2025-09-30T07:09:29.360437",
     "status": "completed"
    },
    "tags": []
   },
   "outputs": [],
   "source": [
    "#q2.hint()\n",
    "#q2.solution()"
   ]
  },
  {
   "cell_type": "markdown",
   "id": "f4ebd2aa",
   "metadata": {
    "papermill": {
     "duration": 0.00364,
     "end_time": "2025-09-30T07:09:29.378896",
     "exception": false,
     "start_time": "2025-09-30T07:09:29.375256",
     "status": "completed"
    },
    "tags": []
   },
   "source": [
    "## 3.\n",
    "Sometimes the price column is null. How many reviews in the dataset are missing a price?"
   ]
  },
  {
   "cell_type": "code",
   "execution_count": 6,
   "id": "45fbe53b",
   "metadata": {
    "execution": {
     "iopub.execute_input": "2025-09-30T07:09:29.387419Z",
     "iopub.status.busy": "2025-09-30T07:09:29.387090Z",
     "iopub.status.idle": "2025-09-30T07:09:29.405734Z",
     "shell.execute_reply": "2025-09-30T07:09:29.404755Z"
    },
    "papermill": {
     "duration": 0.02503,
     "end_time": "2025-09-30T07:09:29.407619",
     "exception": false,
     "start_time": "2025-09-30T07:09:29.382589",
     "status": "completed"
    },
    "tags": []
   },
   "outputs": [
    {
     "data": {
      "application/javascript": [
       "parent.postMessage({\"jupyterEvent\": \"custom.exercise_interaction\", \"data\": {\"outcomeType\": 1, \"valueTowardsCompletion\": 0.25, \"interactionType\": 1, \"questionType\": 1, \"questionId\": \"3_CountMissingPrices\", \"learnToolsVersion\": \"0.3.5\", \"failureMessage\": \"\", \"exceptionClass\": \"\", \"trace\": \"\"}}, \"*\")"
      ],
      "text/plain": [
       "<IPython.core.display.Javascript object>"
      ]
     },
     "metadata": {},
     "output_type": "display_data"
    },
    {
     "data": {
      "text/markdown": [
       "<span style=\"color:#33cc33\">Correct</span>"
      ],
      "text/plain": [
       "Correct"
      ]
     },
     "metadata": {},
     "output_type": "display_data"
    }
   ],
   "source": [
    "missing_price_reviews = reviews[reviews.price.isnull()]\n",
    "n_missing_prices = len(missing_price_reviews)\n",
    "\n",
    "n_missing_prices = reviews.price.isnull().sum()\n",
    "\n",
    "n_missing_prices = pd.isnull(reviews.price).sum()\n",
    "\n",
    "# Check your answer\n",
    "q3.check()"
   ]
  },
  {
   "cell_type": "code",
   "execution_count": 7,
   "id": "f82eaac4",
   "metadata": {
    "execution": {
     "iopub.execute_input": "2025-09-30T07:09:29.417446Z",
     "iopub.status.busy": "2025-09-30T07:09:29.417115Z",
     "iopub.status.idle": "2025-09-30T07:09:29.421929Z",
     "shell.execute_reply": "2025-09-30T07:09:29.421154Z"
    },
    "papermill": {
     "duration": 0.011714,
     "end_time": "2025-09-30T07:09:29.423642",
     "exception": false,
     "start_time": "2025-09-30T07:09:29.411928",
     "status": "completed"
    },
    "tags": []
   },
   "outputs": [],
   "source": [
    "#q3.hint()\n",
    "#q3.solution()"
   ]
  },
  {
   "cell_type": "markdown",
   "id": "b6f68145",
   "metadata": {
    "papermill": {
     "duration": 0.003714,
     "end_time": "2025-09-30T07:09:29.431474",
     "exception": false,
     "start_time": "2025-09-30T07:09:29.427760",
     "status": "completed"
    },
    "tags": []
   },
   "source": [
    "## 4.\n",
    "What are the most common wine-producing regions? Create a Series counting the number of times each value occurs in the `region_1` field. This field is often missing data, so replace missing values with `Unknown`. Sort in descending order.  Your output should look something like this:\n",
    "\n",
    "```\n",
    "Unknown                    21247\n",
    "Napa Valley                 4480\n",
    "                           ...  \n",
    "Bardolino Superiore            1\n",
    "Primitivo del Tarantino        1\n",
    "Name: region_1, Length: 1230, dtype: int64\n",
    "```"
   ]
  },
  {
   "cell_type": "code",
   "execution_count": 8,
   "id": "814db27a",
   "metadata": {
    "execution": {
     "iopub.execute_input": "2025-09-30T07:09:29.440412Z",
     "iopub.status.busy": "2025-09-30T07:09:29.440042Z",
     "iopub.status.idle": "2025-09-30T07:09:29.489652Z",
     "shell.execute_reply": "2025-09-30T07:09:29.488645Z"
    },
    "papermill": {
     "duration": 0.055767,
     "end_time": "2025-09-30T07:09:29.491113",
     "exception": false,
     "start_time": "2025-09-30T07:09:29.435346",
     "status": "completed"
    },
    "tags": []
   },
   "outputs": [
    {
     "data": {
      "application/javascript": [
       "parent.postMessage({\"jupyterEvent\": \"custom.exercise_interaction\", \"data\": {\"outcomeType\": 1, \"valueTowardsCompletion\": 0.25, \"interactionType\": 1, \"questionType\": 2, \"questionId\": \"4_ReviewsPerRegion\", \"learnToolsVersion\": \"0.3.5\", \"failureMessage\": \"\", \"exceptionClass\": \"\", \"trace\": \"\"}}, \"*\")"
      ],
      "text/plain": [
       "<IPython.core.display.Javascript object>"
      ]
     },
     "metadata": {},
     "output_type": "display_data"
    },
    {
     "data": {
      "text/markdown": [
       "<span style=\"color:#33cc33\">Correct</span>"
      ],
      "text/plain": [
       "Correct"
      ]
     },
     "metadata": {},
     "output_type": "display_data"
    }
   ],
   "source": [
    "reviews_per_region = reviews.region_1.fillna('Unkown').value_counts().sort_values(ascending=False)\n",
    "\n",
    "# Check your answer\n",
    "q4.check()"
   ]
  },
  {
   "cell_type": "code",
   "execution_count": 9,
   "id": "5c55fd70",
   "metadata": {
    "execution": {
     "iopub.execute_input": "2025-09-30T07:09:29.501172Z",
     "iopub.status.busy": "2025-09-30T07:09:29.500852Z",
     "iopub.status.idle": "2025-09-30T07:09:29.504868Z",
     "shell.execute_reply": "2025-09-30T07:09:29.503959Z"
    },
    "papermill": {
     "duration": 0.010705,
     "end_time": "2025-09-30T07:09:29.506339",
     "exception": false,
     "start_time": "2025-09-30T07:09:29.495634",
     "status": "completed"
    },
    "tags": []
   },
   "outputs": [],
   "source": [
    "#q4.hint()\n",
    "#q4.solution()"
   ]
  },
  {
   "cell_type": "markdown",
   "id": "a838ddaa",
   "metadata": {
    "papermill": {
     "duration": 0.003817,
     "end_time": "2025-09-30T07:09:29.514417",
     "exception": false,
     "start_time": "2025-09-30T07:09:29.510600",
     "status": "completed"
    },
    "tags": []
   },
   "source": [
    "# Keep going\n",
    "\n",
    "Move on to **[renaming and combining](https://www.kaggle.com/residentmario/renaming-and-combining)**."
   ]
  },
  {
   "cell_type": "markdown",
   "id": "be210fe0",
   "metadata": {
    "papermill": {
     "duration": 0.004181,
     "end_time": "2025-09-30T07:09:29.522536",
     "exception": false,
     "start_time": "2025-09-30T07:09:29.518355",
     "status": "completed"
    },
    "tags": []
   },
   "source": [
    "---\n",
    "\n",
    "\n",
    "\n",
    "\n",
    "*Have questions or comments? Visit the [course discussion forum](https://www.kaggle.com/learn/pandas/discussion) to chat with other learners.*"
   ]
  }
 ],
 "metadata": {
  "kaggle": {
   "accelerator": "none",
   "dataSources": [
    {
     "datasetId": 655,
     "sourceId": 1252,
     "sourceType": "datasetVersion"
    },
    {
     "datasetId": 2321,
     "sourceId": 3919,
     "sourceType": "datasetVersion"
    },
    {
     "datasetId": 2894,
     "sourceId": 4877,
     "sourceType": "datasetVersion"
    },
    {
     "datasetId": 3491,
     "sourceId": 5624,
     "sourceType": "datasetVersion"
    },
    {
     "datasetId": 1442,
     "sourceId": 8172,
     "sourceType": "datasetVersion"
    },
    {
     "datasetId": 9366,
     "sourceId": 13206,
     "sourceType": "datasetVersion"
    },
    {
     "datasetId": 179555,
     "sourceId": 403916,
     "sourceType": "datasetVersion"
    },
    {
     "datasetId": 4549,
     "sourceId": 466349,
     "sourceType": "datasetVersion"
    },
    {
     "datasetId": 2478,
     "sourceId": 1151655,
     "sourceType": "datasetVersion"
    },
    {
     "datasetId": 10128,
     "sourceId": 5438389,
     "sourceType": "datasetVersion"
    }
   ],
   "isGpuEnabled": false,
   "isInternetEnabled": false,
   "language": "python",
   "sourceType": "notebook"
  },
  "kernelspec": {
   "display_name": "Python 3",
   "language": "python",
   "name": "python3"
  },
  "language_info": {
   "codemirror_mode": {
    "name": "ipython",
    "version": 3
   },
   "file_extension": ".py",
   "mimetype": "text/x-python",
   "name": "python",
   "nbconvert_exporter": "python",
   "pygments_lexer": "ipython3",
   "version": "3.11.13"
  },
  "papermill": {
   "default_parameters": {},
   "duration": 12.040095,
   "end_time": "2025-09-30T07:09:30.146900",
   "environment_variables": {},
   "exception": null,
   "input_path": "__notebook__.ipynb",
   "output_path": "__notebook__.ipynb",
   "parameters": {},
   "start_time": "2025-09-30T07:09:18.106805",
   "version": "2.6.0"
  }
 },
 "nbformat": 4,
 "nbformat_minor": 5
}
