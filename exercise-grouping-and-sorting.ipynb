{
 "cells": [
  {
   "cell_type": "markdown",
   "id": "fbae542b",
   "metadata": {
    "papermill": {
     "duration": 0.005204,
     "end_time": "2025-09-30T06:47:57.282534",
     "exception": false,
     "start_time": "2025-09-30T06:47:57.277330",
     "status": "completed"
    },
    "tags": []
   },
   "source": [
    "**This notebook is an exercise in the [Pandas](https://www.kaggle.com/learn/pandas) course.  You can reference the tutorial at [this link](https://www.kaggle.com/residentmario/grouping-and-sorting).**\n",
    "\n",
    "---\n"
   ]
  },
  {
   "cell_type": "markdown",
   "id": "2a6cf23e",
   "metadata": {
    "papermill": {
     "duration": 0.004095,
     "end_time": "2025-09-30T06:47:57.291218",
     "exception": false,
     "start_time": "2025-09-30T06:47:57.287123",
     "status": "completed"
    },
    "tags": []
   },
   "source": [
    "# Introduction\n",
    "\n",
    "In these exercises we'll apply groupwise analysis to our dataset.\n",
    "\n",
    "Run the code cell below to load the data before running the exercises."
   ]
  },
  {
   "cell_type": "code",
   "execution_count": 1,
   "id": "fb0f8e7c",
   "metadata": {
    "execution": {
     "iopub.execute_input": "2025-09-30T06:47:57.301518Z",
     "iopub.status.busy": "2025-09-30T06:47:57.301199Z",
     "iopub.status.idle": "2025-09-30T06:48:02.800389Z",
     "shell.execute_reply": "2025-09-30T06:48:02.799237Z"
    },
    "papermill": {
     "duration": 5.50661,
     "end_time": "2025-09-30T06:48:02.802190",
     "exception": false,
     "start_time": "2025-09-30T06:47:57.295580",
     "status": "completed"
    },
    "tags": []
   },
   "outputs": [
    {
     "name": "stdout",
     "output_type": "stream",
     "text": [
      "Setup complete.\n"
     ]
    },
    {
     "name": "stderr",
     "output_type": "stream",
     "text": [
      "/usr/local/lib/python3.11/dist-packages/learntools/pandas/grouping_and_sorting.py:29: FutureWarning: The provided callable <built-in function min> is currently using SeriesGroupBy.min. In a future version of pandas, the provided callable will be used directly. To keep current behavior pass the string \"min\" instead.\n",
      "  _expected = reviews.groupby('variety').price.agg([min, max])\n",
      "/usr/local/lib/python3.11/dist-packages/learntools/pandas/grouping_and_sorting.py:29: FutureWarning: The provided callable <built-in function max> is currently using SeriesGroupBy.max. In a future version of pandas, the provided callable will be used directly. To keep current behavior pass the string \"max\" instead.\n",
      "  _expected = reviews.groupby('variety').price.agg([min, max])\n",
      "/usr/local/lib/python3.11/dist-packages/learntools/pandas/grouping_and_sorting.py:35: FutureWarning: The provided callable <built-in function min> is currently using SeriesGroupBy.min. In a future version of pandas, the provided callable will be used directly. To keep current behavior pass the string \"min\" instead.\n",
      "  _expected = reviews.groupby('variety').price.agg([min, max]).sort_values(by=['min', 'max'], ascending=False)\n",
      "/usr/local/lib/python3.11/dist-packages/learntools/pandas/grouping_and_sorting.py:35: FutureWarning: The provided callable <built-in function max> is currently using SeriesGroupBy.max. In a future version of pandas, the provided callable will be used directly. To keep current behavior pass the string \"max\" instead.\n",
      "  _expected = reviews.groupby('variety').price.agg([min, max]).sort_values(by=['min', 'max'], ascending=False)\n"
     ]
    }
   ],
   "source": [
    "import pandas as pd\n",
    "\n",
    "reviews = pd.read_csv(\"../input/wine-reviews/winemag-data-130k-v2.csv\", index_col=0)\n",
    "#pd.set_option(\"display.max_rows\", 5)\n",
    "\n",
    "from learntools.core import binder; binder.bind(globals())\n",
    "from learntools.pandas.grouping_and_sorting import *\n",
    "print(\"Setup complete.\")"
   ]
  },
  {
   "cell_type": "markdown",
   "id": "fb223e76",
   "metadata": {
    "papermill": {
     "duration": 0.004266,
     "end_time": "2025-09-30T06:48:02.811224",
     "exception": false,
     "start_time": "2025-09-30T06:48:02.806958",
     "status": "completed"
    },
    "tags": []
   },
   "source": [
    "# Exercises"
   ]
  },
  {
   "cell_type": "markdown",
   "id": "c9d8387d",
   "metadata": {
    "papermill": {
     "duration": 0.004075,
     "end_time": "2025-09-30T06:48:02.819524",
     "exception": false,
     "start_time": "2025-09-30T06:48:02.815449",
     "status": "completed"
    },
    "tags": []
   },
   "source": [
    "## 1.\n",
    "Who are the most common wine reviewers in the dataset? Create a `Series` whose index is the `taster_twitter_handle` category from the dataset, and whose values count how many reviews each person wrote."
   ]
  },
  {
   "cell_type": "code",
   "execution_count": 2,
   "id": "21ca289e",
   "metadata": {
    "execution": {
     "iopub.execute_input": "2025-09-30T06:48:02.829630Z",
     "iopub.status.busy": "2025-09-30T06:48:02.829290Z",
     "iopub.status.idle": "2025-09-30T06:48:02.867867Z",
     "shell.execute_reply": "2025-09-30T06:48:02.866888Z"
    },
    "papermill": {
     "duration": 0.045834,
     "end_time": "2025-09-30T06:48:02.869530",
     "exception": false,
     "start_time": "2025-09-30T06:48:02.823696",
     "status": "completed"
    },
    "tags": []
   },
   "outputs": [
    {
     "data": {
      "application/javascript": [
       "parent.postMessage({\"jupyterEvent\": \"custom.exercise_interaction\", \"data\": {\"outcomeType\": 1, \"valueTowardsCompletion\": 0.16666666666666666, \"interactionType\": 1, \"questionType\": 1, \"questionId\": \"1_ReviewsWritten\", \"learnToolsVersion\": \"0.3.5\", \"failureMessage\": \"\", \"exceptionClass\": \"\", \"trace\": \"\"}}, \"*\")"
      ],
      "text/plain": [
       "<IPython.core.display.Javascript object>"
      ]
     },
     "metadata": {},
     "output_type": "display_data"
    },
    {
     "data": {
      "text/markdown": [
       "<span style=\"color:#33cc33\">Correct:</span> \n",
       "\n",
       "\n",
       "```python\n",
       "reviews_written = reviews.groupby('taster_twitter_handle').size()\n",
       "```\n",
       "or\n",
       "```python\n",
       "reviews_written = reviews.groupby('taster_twitter_handle').taster_twitter_handle.count()\n",
       "```\n"
      ],
      "text/plain": [
       "Correct: \n",
       "\n",
       "\n",
       "```python\n",
       "reviews_written = reviews.groupby('taster_twitter_handle').size()\n",
       "```\n",
       "or\n",
       "```python\n",
       "reviews_written = reviews.groupby('taster_twitter_handle').taster_twitter_handle.count()\n",
       "```"
      ]
     },
     "metadata": {},
     "output_type": "display_data"
    }
   ],
   "source": [
    "# Your code here\n",
    "reviews_written = reviews.groupby('taster_twitter_handle').taster_twitter_handle.count()\n",
    "\n",
    "reviews_written = reviews.groupby('taster_twitter_handle').size()\n",
    "\n",
    "# Check your answer\n",
    "q1.check()"
   ]
  },
  {
   "cell_type": "code",
   "execution_count": 3,
   "id": "9df93d9e",
   "metadata": {
    "execution": {
     "iopub.execute_input": "2025-09-30T06:48:02.880646Z",
     "iopub.status.busy": "2025-09-30T06:48:02.880271Z",
     "iopub.status.idle": "2025-09-30T06:48:02.884579Z",
     "shell.execute_reply": "2025-09-30T06:48:02.883860Z"
    },
    "papermill": {
     "duration": 0.011629,
     "end_time": "2025-09-30T06:48:02.886233",
     "exception": false,
     "start_time": "2025-09-30T06:48:02.874604",
     "status": "completed"
    },
    "tags": []
   },
   "outputs": [],
   "source": [
    "#q1.hint()\n",
    "#q1.solution()"
   ]
  },
  {
   "cell_type": "markdown",
   "id": "43d15977",
   "metadata": {
    "papermill": {
     "duration": 0.005334,
     "end_time": "2025-09-30T06:48:02.896397",
     "exception": false,
     "start_time": "2025-09-30T06:48:02.891063",
     "status": "completed"
    },
    "tags": []
   },
   "source": [
    "## 2.\n",
    "What is the best wine I can buy for a given amount of money? Create a `Series` whose index is wine prices and whose values is the maximum number of points a wine costing that much was given in a review. Sort the values by price, ascending (so that `4.0` dollars is at the top and `3300.0` dollars is at the bottom)."
   ]
  },
  {
   "cell_type": "code",
   "execution_count": 4,
   "id": "cb0c6faa",
   "metadata": {
    "execution": {
     "iopub.execute_input": "2025-09-30T06:48:02.907055Z",
     "iopub.status.busy": "2025-09-30T06:48:02.906653Z",
     "iopub.status.idle": "2025-09-30T06:48:02.919266Z",
     "shell.execute_reply": "2025-09-30T06:48:02.918397Z"
    },
    "papermill": {
     "duration": 0.019849,
     "end_time": "2025-09-30T06:48:02.920869",
     "exception": false,
     "start_time": "2025-09-30T06:48:02.901020",
     "status": "completed"
    },
    "tags": []
   },
   "outputs": [
    {
     "data": {
      "application/javascript": [
       "parent.postMessage({\"jupyterEvent\": \"custom.exercise_interaction\", \"data\": {\"outcomeType\": 1, \"valueTowardsCompletion\": 0.16666666666666666, \"interactionType\": 1, \"questionType\": 1, \"questionId\": \"2_BestRatingPerPrice\", \"learnToolsVersion\": \"0.3.5\", \"failureMessage\": \"\", \"exceptionClass\": \"\", \"trace\": \"\"}}, \"*\")"
      ],
      "text/plain": [
       "<IPython.core.display.Javascript object>"
      ]
     },
     "metadata": {},
     "output_type": "display_data"
    },
    {
     "data": {
      "text/markdown": [
       "<span style=\"color:#33cc33\">Correct</span>"
      ],
      "text/plain": [
       "Correct"
      ]
     },
     "metadata": {},
     "output_type": "display_data"
    }
   ],
   "source": [
    "best_rating_per_price = reviews.groupby('price')['points'].max().sort_index()\n",
    "\n",
    "# Check your answer\n",
    "q2.check()"
   ]
  },
  {
   "cell_type": "code",
   "execution_count": 5,
   "id": "4d9300ae",
   "metadata": {
    "execution": {
     "iopub.execute_input": "2025-09-30T06:48:02.932021Z",
     "iopub.status.busy": "2025-09-30T06:48:02.931513Z",
     "iopub.status.idle": "2025-09-30T06:48:02.936626Z",
     "shell.execute_reply": "2025-09-30T06:48:02.935671Z"
    },
    "papermill": {
     "duration": 0.012593,
     "end_time": "2025-09-30T06:48:02.938341",
     "exception": false,
     "start_time": "2025-09-30T06:48:02.925748",
     "status": "completed"
    },
    "tags": []
   },
   "outputs": [],
   "source": [
    "#q2.hint()\n",
    "#q2.solution()"
   ]
  },
  {
   "cell_type": "markdown",
   "id": "bcefb62d",
   "metadata": {
    "papermill": {
     "duration": 0.00464,
     "end_time": "2025-09-30T06:48:02.948115",
     "exception": false,
     "start_time": "2025-09-30T06:48:02.943475",
     "status": "completed"
    },
    "tags": []
   },
   "source": [
    "## 3.\n",
    "What are the minimum and maximum prices for each `variety` of wine? Create a `DataFrame` whose index is the `variety` category from the dataset and whose values are the `min` and `max` values thereof."
   ]
  },
  {
   "cell_type": "code",
   "execution_count": 6,
   "id": "b618a7c1",
   "metadata": {
    "execution": {
     "iopub.execute_input": "2025-09-30T06:48:02.959302Z",
     "iopub.status.busy": "2025-09-30T06:48:02.958980Z",
     "iopub.status.idle": "2025-09-30T06:48:02.984258Z",
     "shell.execute_reply": "2025-09-30T06:48:02.983401Z"
    },
    "papermill": {
     "duration": 0.032781,
     "end_time": "2025-09-30T06:48:02.985793",
     "exception": false,
     "start_time": "2025-09-30T06:48:02.953012",
     "status": "completed"
    },
    "tags": []
   },
   "outputs": [
    {
     "name": "stderr",
     "output_type": "stream",
     "text": [
      "/tmp/ipykernel_13/4085108108.py:1: FutureWarning: The provided callable <built-in function min> is currently using SeriesGroupBy.min. In a future version of pandas, the provided callable will be used directly. To keep current behavior pass the string \"min\" instead.\n",
      "  price_extremes = reviews.groupby('variety').price.agg([min, max])\n",
      "/tmp/ipykernel_13/4085108108.py:1: FutureWarning: The provided callable <built-in function max> is currently using SeriesGroupBy.max. In a future version of pandas, the provided callable will be used directly. To keep current behavior pass the string \"max\" instead.\n",
      "  price_extremes = reviews.groupby('variety').price.agg([min, max])\n"
     ]
    },
    {
     "data": {
      "application/javascript": [
       "parent.postMessage({\"jupyterEvent\": \"custom.exercise_interaction\", \"data\": {\"outcomeType\": 1, \"valueTowardsCompletion\": 0.16666666666666666, \"interactionType\": 1, \"questionType\": 1, \"questionId\": \"3_PriceExtremes\", \"learnToolsVersion\": \"0.3.5\", \"failureMessage\": \"\", \"exceptionClass\": \"\", \"trace\": \"\"}}, \"*\")"
      ],
      "text/plain": [
       "<IPython.core.display.Javascript object>"
      ]
     },
     "metadata": {},
     "output_type": "display_data"
    },
    {
     "data": {
      "text/markdown": [
       "<span style=\"color:#33cc33\">Correct</span>"
      ],
      "text/plain": [
       "Correct"
      ]
     },
     "metadata": {},
     "output_type": "display_data"
    }
   ],
   "source": [
    "price_extremes = reviews.groupby('variety').price.agg([min, max])\n",
    "\n",
    "# Check your answer\n",
    "q3.check()"
   ]
  },
  {
   "cell_type": "code",
   "execution_count": 7,
   "id": "772a37c2",
   "metadata": {
    "execution": {
     "iopub.execute_input": "2025-09-30T06:48:02.997482Z",
     "iopub.status.busy": "2025-09-30T06:48:02.997205Z",
     "iopub.status.idle": "2025-09-30T06:48:03.001206Z",
     "shell.execute_reply": "2025-09-30T06:48:03.000172Z"
    },
    "papermill": {
     "duration": 0.012191,
     "end_time": "2025-09-30T06:48:03.003261",
     "exception": false,
     "start_time": "2025-09-30T06:48:02.991070",
     "status": "completed"
    },
    "tags": []
   },
   "outputs": [],
   "source": [
    "#q3.hint()\n",
    "#q3.solution()"
   ]
  },
  {
   "cell_type": "markdown",
   "id": "5f541144",
   "metadata": {
    "papermill": {
     "duration": 0.004815,
     "end_time": "2025-09-30T06:48:03.013666",
     "exception": false,
     "start_time": "2025-09-30T06:48:03.008851",
     "status": "completed"
    },
    "tags": []
   },
   "source": [
    "## 4.\n",
    "What are the most expensive wine varieties? Create a variable `sorted_varieties` containing a copy of the dataframe from the previous question where varieties are sorted in descending order based on minimum price, then on maximum price (to break ties)."
   ]
  },
  {
   "cell_type": "code",
   "execution_count": 8,
   "id": "448efb72",
   "metadata": {
    "execution": {
     "iopub.execute_input": "2025-09-30T06:48:03.024992Z",
     "iopub.status.busy": "2025-09-30T06:48:03.024694Z",
     "iopub.status.idle": "2025-09-30T06:48:03.034894Z",
     "shell.execute_reply": "2025-09-30T06:48:03.034023Z"
    },
    "papermill": {
     "duration": 0.017496,
     "end_time": "2025-09-30T06:48:03.036332",
     "exception": false,
     "start_time": "2025-09-30T06:48:03.018836",
     "status": "completed"
    },
    "tags": []
   },
   "outputs": [
    {
     "data": {
      "application/javascript": [
       "parent.postMessage({\"jupyterEvent\": \"custom.exercise_interaction\", \"data\": {\"outcomeType\": 1, \"valueTowardsCompletion\": 0.16666666666666666, \"interactionType\": 1, \"questionType\": 1, \"questionId\": \"4_SortedVarieties\", \"learnToolsVersion\": \"0.3.5\", \"failureMessage\": \"\", \"exceptionClass\": \"\", \"trace\": \"\"}}, \"*\")"
      ],
      "text/plain": [
       "<IPython.core.display.Javascript object>"
      ]
     },
     "metadata": {},
     "output_type": "display_data"
    },
    {
     "data": {
      "text/markdown": [
       "<span style=\"color:#33cc33\">Correct</span>"
      ],
      "text/plain": [
       "Correct"
      ]
     },
     "metadata": {},
     "output_type": "display_data"
    }
   ],
   "source": [
    "sorted_varieties = price_extremes.sort_values(by=['min', 'max'], ascending=False)\n",
    "\n",
    "# Check your answer\n",
    "q4.check()"
   ]
  },
  {
   "cell_type": "code",
   "execution_count": 9,
   "id": "9ee09185",
   "metadata": {
    "execution": {
     "iopub.execute_input": "2025-09-30T06:48:03.048155Z",
     "iopub.status.busy": "2025-09-30T06:48:03.047812Z",
     "iopub.status.idle": "2025-09-30T06:48:03.051973Z",
     "shell.execute_reply": "2025-09-30T06:48:03.051035Z"
    },
    "papermill": {
     "duration": 0.012412,
     "end_time": "2025-09-30T06:48:03.054066",
     "exception": false,
     "start_time": "2025-09-30T06:48:03.041654",
     "status": "completed"
    },
    "tags": []
   },
   "outputs": [],
   "source": [
    "#q4.hint()\n",
    "#q4.solution()"
   ]
  },
  {
   "cell_type": "markdown",
   "id": "75988ad8",
   "metadata": {
    "papermill": {
     "duration": 0.005025,
     "end_time": "2025-09-30T06:48:03.064443",
     "exception": false,
     "start_time": "2025-09-30T06:48:03.059418",
     "status": "completed"
    },
    "tags": []
   },
   "source": [
    "## 5.\n",
    "Create a `Series` whose index is reviewers and whose values is the average review score given out by that reviewer. Hint: you will need the `taster_name` and `points` columns."
   ]
  },
  {
   "cell_type": "code",
   "execution_count": 10,
   "id": "12e14034",
   "metadata": {
    "execution": {
     "iopub.execute_input": "2025-09-30T06:48:03.076645Z",
     "iopub.status.busy": "2025-09-30T06:48:03.076294Z",
     "iopub.status.idle": "2025-09-30T06:48:03.096817Z",
     "shell.execute_reply": "2025-09-30T06:48:03.095831Z"
    },
    "papermill": {
     "duration": 0.028271,
     "end_time": "2025-09-30T06:48:03.098242",
     "exception": false,
     "start_time": "2025-09-30T06:48:03.069971",
     "status": "completed"
    },
    "tags": []
   },
   "outputs": [
    {
     "data": {
      "application/javascript": [
       "parent.postMessage({\"jupyterEvent\": \"custom.exercise_interaction\", \"data\": {\"outcomeType\": 1, \"valueTowardsCompletion\": 0.16666666666666666, \"interactionType\": 1, \"questionType\": 1, \"questionId\": \"5_ReviewerMeanRatings\", \"learnToolsVersion\": \"0.3.5\", \"failureMessage\": \"\", \"exceptionClass\": \"\", \"trace\": \"\"}}, \"*\")"
      ],
      "text/plain": [
       "<IPython.core.display.Javascript object>"
      ]
     },
     "metadata": {},
     "output_type": "display_data"
    },
    {
     "data": {
      "text/markdown": [
       "<span style=\"color:#33cc33\">Correct</span>"
      ],
      "text/plain": [
       "Correct"
      ]
     },
     "metadata": {},
     "output_type": "display_data"
    }
   ],
   "source": [
    "reviewer_mean_ratings = reviews.groupby('taster_name').points.mean()\n",
    "\n",
    "# Check your answer\n",
    "\n",
    "q5.check()"
   ]
  },
  {
   "cell_type": "code",
   "execution_count": 11,
   "id": "5e77865f",
   "metadata": {
    "execution": {
     "iopub.execute_input": "2025-09-30T06:48:03.110446Z",
     "iopub.status.busy": "2025-09-30T06:48:03.110151Z",
     "iopub.status.idle": "2025-09-30T06:48:03.114102Z",
     "shell.execute_reply": "2025-09-30T06:48:03.113149Z"
    },
    "papermill": {
     "duration": 0.011821,
     "end_time": "2025-09-30T06:48:03.115649",
     "exception": false,
     "start_time": "2025-09-30T06:48:03.103828",
     "status": "completed"
    },
    "tags": []
   },
   "outputs": [],
   "source": [
    "#q5.hint()\n",
    "#q5.solution()"
   ]
  },
  {
   "cell_type": "markdown",
   "id": "3ac1ac3b",
   "metadata": {
    "papermill": {
     "duration": 0.005258,
     "end_time": "2025-09-30T06:48:03.126703",
     "exception": false,
     "start_time": "2025-09-30T06:48:03.121445",
     "status": "completed"
    },
    "tags": []
   },
   "source": [
    "Are there significant differences in the average scores assigned by the various reviewers? Run the cell below to use the `describe()` method to see a summary of the range of values."
   ]
  },
  {
   "cell_type": "code",
   "execution_count": 12,
   "id": "64525cba",
   "metadata": {
    "execution": {
     "iopub.execute_input": "2025-09-30T06:48:03.138863Z",
     "iopub.status.busy": "2025-09-30T06:48:03.138443Z",
     "iopub.status.idle": "2025-09-30T06:48:03.156827Z",
     "shell.execute_reply": "2025-09-30T06:48:03.155619Z"
    },
    "papermill": {
     "duration": 0.026805,
     "end_time": "2025-09-30T06:48:03.158974",
     "exception": false,
     "start_time": "2025-09-30T06:48:03.132169",
     "status": "completed"
    },
    "tags": []
   },
   "outputs": [
    {
     "data": {
      "text/plain": [
       "count    19.000000\n",
       "mean     88.233026\n",
       "std       1.243610\n",
       "min      85.855422\n",
       "25%      87.323501\n",
       "50%      88.536235\n",
       "75%      88.975256\n",
       "max      90.562551\n",
       "Name: points, dtype: float64"
      ]
     },
     "execution_count": 12,
     "metadata": {},
     "output_type": "execute_result"
    }
   ],
   "source": [
    "reviewer_mean_ratings.describe()"
   ]
  },
  {
   "cell_type": "markdown",
   "id": "932a45cc",
   "metadata": {
    "papermill": {
     "duration": 0.005507,
     "end_time": "2025-09-30T06:48:03.170463",
     "exception": false,
     "start_time": "2025-09-30T06:48:03.164956",
     "status": "completed"
    },
    "tags": []
   },
   "source": [
    "## 6.\n",
    "What combination of countries and varieties are most common? Create a `Series` whose index is a `MultiIndex`of `{country, variety}` pairs. For example, a pinot noir produced in the US should map to `{\"US\", \"Pinot Noir\"}`. Sort the values in the `Series` in descending order based on wine count."
   ]
  },
  {
   "cell_type": "code",
   "execution_count": 13,
   "id": "b22b4bf1",
   "metadata": {
    "execution": {
     "iopub.execute_input": "2025-09-30T06:48:03.183323Z",
     "iopub.status.busy": "2025-09-30T06:48:03.183012Z",
     "iopub.status.idle": "2025-09-30T06:48:03.219189Z",
     "shell.execute_reply": "2025-09-30T06:48:03.218183Z"
    },
    "papermill": {
     "duration": 0.044656,
     "end_time": "2025-09-30T06:48:03.220659",
     "exception": false,
     "start_time": "2025-09-30T06:48:03.176003",
     "status": "completed"
    },
    "tags": []
   },
   "outputs": [
    {
     "data": {
      "application/javascript": [
       "parent.postMessage({\"jupyterEvent\": \"custom.exercise_interaction\", \"data\": {\"outcomeType\": 1, \"valueTowardsCompletion\": 0.16666666666666666, \"interactionType\": 1, \"questionType\": 1, \"questionId\": \"6_GroupbyCountryVariety\", \"learnToolsVersion\": \"0.3.5\", \"failureMessage\": \"\", \"exceptionClass\": \"\", \"trace\": \"\"}}, \"*\")"
      ],
      "text/plain": [
       "<IPython.core.display.Javascript object>"
      ]
     },
     "metadata": {},
     "output_type": "display_data"
    },
    {
     "data": {
      "text/markdown": [
       "<span style=\"color:#33cc33\">Correct</span>"
      ],
      "text/plain": [
       "Correct"
      ]
     },
     "metadata": {},
     "output_type": "display_data"
    }
   ],
   "source": [
    "country_variety_counts = reviews.groupby(['country', 'variety']).size().sort_values(ascending=False)\n",
    "\n",
    "# Check your answer\n",
    "q6.check()"
   ]
  },
  {
   "cell_type": "code",
   "execution_count": 14,
   "id": "72c06dfa",
   "metadata": {
    "execution": {
     "iopub.execute_input": "2025-09-30T06:48:03.234469Z",
     "iopub.status.busy": "2025-09-30T06:48:03.234149Z",
     "iopub.status.idle": "2025-09-30T06:48:03.238222Z",
     "shell.execute_reply": "2025-09-30T06:48:03.237193Z"
    },
    "papermill": {
     "duration": 0.012574,
     "end_time": "2025-09-30T06:48:03.240040",
     "exception": false,
     "start_time": "2025-09-30T06:48:03.227466",
     "status": "completed"
    },
    "tags": []
   },
   "outputs": [],
   "source": [
    "#q6.hint()\n",
    "#q6.solution()"
   ]
  },
  {
   "cell_type": "markdown",
   "id": "3016e46b",
   "metadata": {
    "papermill": {
     "duration": 0.00554,
     "end_time": "2025-09-30T06:48:03.251729",
     "exception": false,
     "start_time": "2025-09-30T06:48:03.246189",
     "status": "completed"
    },
    "tags": []
   },
   "source": [
    "# Keep going\n",
    "\n",
    "Move on to the [**data types and missing data**](https://www.kaggle.com/residentmario/data-types-and-missing-values)."
   ]
  },
  {
   "cell_type": "markdown",
   "id": "7d028231",
   "metadata": {
    "papermill": {
     "duration": 0.00594,
     "end_time": "2025-09-30T06:48:03.263323",
     "exception": false,
     "start_time": "2025-09-30T06:48:03.257383",
     "status": "completed"
    },
    "tags": []
   },
   "source": [
    "---\n",
    "\n",
    "\n",
    "\n",
    "\n",
    "*Have questions or comments? Visit the [course discussion forum](https://www.kaggle.com/learn/pandas/discussion) to chat with other learners.*"
   ]
  }
 ],
 "metadata": {
  "kaggle": {
   "accelerator": "none",
   "dataSources": [
    {
     "datasetId": 655,
     "sourceId": 1252,
     "sourceType": "datasetVersion"
    },
    {
     "datasetId": 2321,
     "sourceId": 3919,
     "sourceType": "datasetVersion"
    },
    {
     "datasetId": 2894,
     "sourceId": 4877,
     "sourceType": "datasetVersion"
    },
    {
     "datasetId": 3491,
     "sourceId": 5624,
     "sourceType": "datasetVersion"
    },
    {
     "datasetId": 1442,
     "sourceId": 8172,
     "sourceType": "datasetVersion"
    },
    {
     "datasetId": 9366,
     "sourceId": 13206,
     "sourceType": "datasetVersion"
    },
    {
     "datasetId": 179555,
     "sourceId": 403916,
     "sourceType": "datasetVersion"
    },
    {
     "datasetId": 4549,
     "sourceId": 466349,
     "sourceType": "datasetVersion"
    },
    {
     "datasetId": 2478,
     "sourceId": 1151655,
     "sourceType": "datasetVersion"
    },
    {
     "datasetId": 10128,
     "sourceId": 5438389,
     "sourceType": "datasetVersion"
    }
   ],
   "isGpuEnabled": false,
   "isInternetEnabled": false,
   "language": "python",
   "sourceType": "notebook"
  },
  "kernelspec": {
   "display_name": "Python 3",
   "language": "python",
   "name": "python3"
  },
  "language_info": {
   "codemirror_mode": {
    "name": "ipython",
    "version": 3
   },
   "file_extension": ".py",
   "mimetype": "text/x-python",
   "name": "python",
   "nbconvert_exporter": "python",
   "pygments_lexer": "ipython3",
   "version": "3.11.13"
  },
  "papermill": {
   "default_parameters": {},
   "duration": 12.45906,
   "end_time": "2025-09-30T06:48:03.890887",
   "environment_variables": {},
   "exception": null,
   "input_path": "__notebook__.ipynb",
   "output_path": "__notebook__.ipynb",
   "parameters": {},
   "start_time": "2025-09-30T06:47:51.431827",
   "version": "2.6.0"
  }
 },
 "nbformat": 4,
 "nbformat_minor": 5
}
